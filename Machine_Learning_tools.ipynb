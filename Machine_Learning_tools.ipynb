{
  "cells": [
    {
      "cell_type": "markdown",
      "metadata": {
        "id": "view-in-github",
        "colab_type": "text"
      },
      "source": [
        "<a href=\"https://colab.research.google.com/github/metacount/MachineLearning/blob/main/Machine_Learning_tools.ipynb\" target=\"_parent\"><img src=\"https://colab.research.google.com/assets/colab-badge.svg\" alt=\"Open In Colab\"/></a>"
      ]
    },
    {
      "cell_type": "markdown",
      "metadata": {
        "id": "3HQ_8lweGzde"
      },
      "source": [
        "# Home"
      ]
    },
    {
      "cell_type": "code",
      "execution_count": null,
      "metadata": {
        "id": "6FdL2NfzSlRq",
        "colab": {
          "base_uri": "https://localhost:8080/"
        },
        "outputId": "5b9affd5-fe71-45cd-e2bc-e5648ee14e95"
      },
      "outputs": [
        {
          "output_type": "stream",
          "name": "stdout",
          "text": [
            "Mounted at /content/gdrive\n"
          ]
        }
      ],
      "source": [
        "from google.colab import drive\n",
        "import pandas as pd\n",
        "import os\n",
        "import json\n",
        "from importlib import reload\n",
        "drive.mount('/content/gdrive')\n",
        "root_dir = '/content/gdrive/MyDrive/HomeCredit/'\n",
        "os.chdir(root_dir)\n",
        "import numpy as np\n",
        "import eda as eda\n",
        "import aggregations as aggs\n",
        "import shutil\n",
        "import machine_learning as ml\n",
        "from hyperopt import hp\n",
        "import joblib\n",
        "\n",
        "pid = 'SK_ID_CURR'\n",
        "sid1 = 'SK_ID_BUREAU'\n",
        "sid2 = 'SK_ID_PREV'\n",
        "id_columns = [pid,sid1,sid2]\n",
        "functions = ['mean', 'min', 'max', 'std', 'median','sum']\n",
        "csv_dir = 'csv/historical/'\n",
        "agg_dir = 'csv/aggregated/'\n",
        "sec_id_files = ['bureau_balance.csv']\n",
        "id_file = 'bureau.csv'\n",
        "csv_dir = 'csv/historical/'\n",
        "clean_app_file = 'csv/applications_clean.csv'\n",
        "target = 'TARGET'\n",
        "corr_matrix_path = 'csv/corr_matrix.csv'\n",
        "clf_dir = 'clasifiers/'\n",
        "merged_file = 'csv/merged.csv'\n",
        "\n",
        "base_params = {\n",
        "    'objective': 'binary',\n",
        "    'metric': 'auc',\n",
        "    'force_row_wise':'true',\n",
        "    'is_unbalance': True,\n",
        "    'early_stopping_rounds': 10,\n",
        "    'verbose':-1\n",
        "}"
      ]
    },
    {
      "cell_type": "markdown",
      "source": [
        "This is classifcation task where 1 represnts loan that was rejected and 0 accpeted. Light gradient boosting algorithm is used."
      ],
      "metadata": {
        "id": "TqwaR621QsoW"
      }
    },
    {
      "cell_type": "markdown",
      "metadata": {
        "id": "fMUQ1isoTBYv"
      },
      "source": [
        "# Base model"
      ]
    },
    {
      "cell_type": "code",
      "execution_count": null,
      "metadata": {
        "id": "dQ1MslrvotPw"
      },
      "outputs": [],
      "source": [
        "df = pd.read_csv('csv/applications.csv')\n",
        "df = ml.create_categorical(df)"
      ]
    },
    {
      "cell_type": "code",
      "execution_count": null,
      "metadata": {
        "colab": {
          "base_uri": "https://localhost:8080/"
        },
        "id": "A2HCxiLVGXfp",
        "outputId": "f9fc54ab-f564-49b5-aa08-a23cb196bb7b"
      },
      "outputs": [
        {
          "name": "stdout",
          "output_type": "stream",
          "text": [
            "0.6796843209988104\n"
          ]
        }
      ],
      "source": [
        "clf = ml.classifier(df, base_params, target, 'LGB Base')"
      ]
    },
    {
      "cell_type": "markdown",
      "metadata": {
        "id": "YzKnLlVeBMU7"
      },
      "source": [
        "# HP tuning"
      ]
    },
    {
      "cell_type": "code",
      "execution_count": null,
      "metadata": {
        "id": "S_nOW24-NKj7"
      },
      "outputs": [],
      "source": [
        "clf = joblib.load('classifiers/LGB Base.pkl')"
      ]
    },
    {
      "cell_type": "code",
      "execution_count": null,
      "metadata": {
        "colab": {
          "base_uri": "https://localhost:8080/"
        },
        "id": "eam8s4sOdN8Y",
        "outputId": "f51b6566-6e73-4146-e903-0635cd131adc"
      },
      "outputs": [
        {
          "name": "stdout",
          "output_type": "stream",
          "text": [
            "100%|██████████| 20/20 [02:24<00:00,  7.23s/trial, best loss: -0.7448796941361748]\n"
          ]
        }
      ],
      "source": [
        "search_space = {\n",
        "    'n_estimators': hp.quniform('n_estimators', 50, 150, 2),\n",
        "    'num_leaves': hp.quniform('num_leaves', 20, 50, 2),\n",
        "}\n",
        "fixed_params = clf.get_params()\n",
        "combined_params = ml.hyper_parameter_tuning(df[selected],\n",
        "                                        fixed_params,\n",
        "                                        search_space,\n",
        "                                        target)"
      ]
    },
    {
      "cell_type": "code",
      "execution_count": null,
      "metadata": {
        "colab": {
          "base_uri": "https://localhost:8080/"
        },
        "id": "y7iKpkQxd38_",
        "outputId": "0c46f231-2023-4262-bf38-78e90966beec"
      },
      "outputs": [
        {
          "name": "stdout",
          "output_type": "stream",
          "text": [
            "0.7438314042621517\n"
          ]
        }
      ],
      "source": [
        "clf = ml.classifier(df, combined_params, target, 'LGB HP S42')"
      ]
    },
    {
      "cell_type": "markdown",
      "metadata": {
        "id": "rI-NIqDT-916"
      },
      "source": [
        "# Feature Engineering"
      ]
    },
    {
      "cell_type": "code",
      "execution_count": null,
      "metadata": {
        "colab": {
          "base_uri": "https://localhost:8080/"
        },
        "id": "ej1_8zCuo3uk",
        "outputId": "50683854-51d9-47ab-953c-e3e079c415a1"
      },
      "outputs": [
        {
          "data": {
            "text/plain": [
              "171426    117000000.0\n",
              "Name: AMT_INCOME_TOTAL, dtype: float64"
            ]
          },
          "execution_count": 3,
          "metadata": {},
          "output_type": "execute_result"
        }
      ],
      "source": [
        "df[df['AMT_INCOME_TOTAL'] > 29269237]['AMT_INCOME_TOTAL']"
      ]
    },
    {
      "cell_type": "code",
      "execution_count": null,
      "metadata": {
        "id": "D4NvBIuo-81j"
      },
      "outputs": [],
      "source": [
        "df_cleaned = df.drop(index=171426)"
      ]
    },
    {
      "cell_type": "code",
      "execution_count": null,
      "metadata": {
        "id": "s7nOOJE1_l8x"
      },
      "outputs": [],
      "source": [
        "eda.to_csv(clean_app_file,df_cleaned)"
      ]
    },
    {
      "cell_type": "markdown",
      "metadata": {
        "id": "LlQMo5CA8Fiw"
      },
      "source": [
        "Get curr id for table with secondary id"
      ]
    },
    {
      "cell_type": "code",
      "execution_count": null,
      "metadata": {
        "id": "q3uwlopsm2R6"
      },
      "outputs": [],
      "source": [
        "aggs.add_ids(root_dir,csv_dir,id_file,sec_id_files,pid,sid1)"
      ]
    },
    {
      "cell_type": "markdown",
      "metadata": {
        "id": "3udK1Qfo8Kge"
      },
      "source": [
        "Create aggregated tables on primary id"
      ]
    },
    {
      "cell_type": "code",
      "execution_count": null,
      "metadata": {
        "id": "MXeWqZWVt0oe"
      },
      "outputs": [],
      "source": [
        "csv_files = aggs.get_csv(root_dir,csv_dir,sec_id_files)\n",
        "aggs.aggregate_tables(root_dir, csv_files,\n",
        "                      csv_dir,agg_dir, functions, id_columns)"
      ]
    },
    {
      "cell_type": "markdown",
      "metadata": {
        "id": "bzvBGoAwGWsV"
      },
      "source": [
        "Merge tables"
      ]
    },
    {
      "cell_type": "code",
      "execution_count": null,
      "metadata": {
        "id": "uG15wLLmUI-g"
      },
      "outputs": [],
      "source": [
        "agg_csv_files =  aggs.get_csv(root_dir,agg_dir,sec_id_files)\n",
        "aggs.merge_dfs(root_dir,agg_dir, clean_app_file, agg_csv_files, pid)"
      ]
    },
    {
      "cell_type": "markdown",
      "metadata": {
        "id": "yFqd_R88df-L"
      },
      "source": [
        "# Feature Selection"
      ]
    },
    {
      "cell_type": "code",
      "execution_count": null,
      "metadata": {
        "id": "ovWGhecJYnK0"
      },
      "outputs": [],
      "source": [
        "df = pd.read_csv('merged.csv')"
      ]
    },
    {
      "cell_type": "markdown",
      "metadata": {
        "id": "lGBBFwoWmhtN"
      },
      "source": [
        "## Correlation"
      ]
    },
    {
      "cell_type": "code",
      "execution_count": null,
      "metadata": {
        "id": "VMJczlaVzGjK"
      },
      "outputs": [],
      "source": [
        "numerical_df = df.select_dtypes(include='number')\n",
        "corr_matrix = eda.corr_matrix(numerical_df)"
      ]
    },
    {
      "cell_type": "code",
      "execution_count": null,
      "metadata": {
        "id": "lNX2iG2UlhpF"
      },
      "outputs": [],
      "source": [
        "eda.to_csv(corr_matrix_path,corr_matrix)"
      ]
    },
    {
      "cell_type": "code",
      "execution_count": null,
      "metadata": {
        "id": "MoH3gr6u6ZV1"
      },
      "outputs": [],
      "source": [
        "corr_matrix = pd.read_csv(corr_matrix_path)"
      ]
    },
    {
      "cell_type": "code",
      "execution_count": null,
      "metadata": {
        "id": "_P7ROL1El8lj"
      },
      "outputs": [],
      "source": [
        "corr_features = eda.corr_features(corr_matrix,0.7)"
      ]
    },
    {
      "cell_type": "markdown",
      "metadata": {
        "id": "AjzbDqCmmkZ7"
      },
      "source": [
        "## Importance"
      ]
    },
    {
      "cell_type": "code",
      "execution_count": null,
      "metadata": {
        "id": "KQw7P6ukSkSS"
      },
      "outputs": [],
      "source": [
        "lgbc = ml.load_lgb_clasifier(clf_dir+'lgbMerged.txt')"
      ]
    },
    {
      "cell_type": "code",
      "execution_count": null,
      "metadata": {
        "id": "3JFR1bSgBFAL"
      },
      "outputs": [],
      "source": [
        "feature_columns = lgbc.feature_name()"
      ]
    },
    {
      "cell_type": "code",
      "execution_count": null,
      "metadata": {
        "id": "0WmdUiiRprqA"
      },
      "outputs": [],
      "source": [
        "feature_importance = ml.feature_importance(lgbc,feature_columns)"
      ]
    },
    {
      "cell_type": "markdown",
      "metadata": {
        "id": "KlCaasfDV4r2"
      },
      "source": [
        "## Selection"
      ]
    },
    {
      "cell_type": "code",
      "execution_count": null,
      "metadata": {
        "id": "fr_Y37oUS9PT"
      },
      "outputs": [],
      "source": [
        "df = pd.read_csv('merged.csv')\n",
        "df = ml.create_categorical(df)\n",
        "df = ml.sanitize(df)"
      ]
    },
    {
      "cell_type": "code",
      "execution_count": null,
      "metadata": {
        "colab": {
          "base_uri": "https://localhost:8080/"
        },
        "id": "laK4wI82tPDm",
        "outputId": "89648e53-8822-4e1f-97d9-926e981d06a6"
      },
      "outputs": [
        {
          "name": "stdout",
          "output_type": "stream",
          "text": [
            "0.7680288908371318\n"
          ]
        }
      ],
      "source": [
        "clf = ml.classifier(df,base_params,target,'merged')z"
      ]
    },
    {
      "cell_type": "code",
      "execution_count": null,
      "metadata": {
        "id": "vndvBeJqwdyy"
      },
      "outputs": [],
      "source": [
        "importance = ml.feature_importance(clf)\n",
        "important_features = importance[importance['Importance']>0]\n",
        "feature_list = important_features['Feature'].tolist()\n",
        "feature_list.append(target)\n",
        "selected = ml.selected_features(corr_features,\n",
        "                            feature_importance,0.9,2)\n",
        "df_selected = df[selected]\n"
      ]
    },
    {
      "cell_type": "code",
      "execution_count": null,
      "metadata": {
        "colab": {
          "base_uri": "https://localhost:8080/"
        },
        "id": "3axJwvb2w9Ai",
        "outputId": "68629961-1f58-481d-de29-a5e676c34655"
      },
      "outputs": [
        {
          "name": "stdout",
          "output_type": "stream",
          "text": [
            "0.7680291493438235\n"
          ]
        }
      ],
      "source": [
        "clf = ml.classifier(df[feature_list],base_params,target,'selected401')"
      ]
    },
    {
      "cell_type": "code",
      "execution_count": null,
      "metadata": {
        "colab": {
          "base_uri": "https://localhost:8080/"
        },
        "id": "nL2qkJ2iyJBA",
        "outputId": "76e873ea-d7df-4259-c199-9b2eb3ae3618"
      },
      "outputs": [
        {
          "name": "stdout",
          "output_type": "stream",
          "text": [
            "{'boosting_type': 'gbdt', 'class_weight': None, 'colsample_bytree': 1.0, 'importance_type': 'split', 'learning_rate': 0.1, 'max_depth': -1, 'min_child_samples': 20, 'min_child_weight': 0.001, 'min_split_gain': 0.0, 'n_jobs': None, 'objective': 'binary', 'random_state': None, 'reg_alpha': 0.0, 'reg_lambda': 0.0, 'subsample': 1.0, 'subsample_for_bin': 200000, 'subsample_freq': 0, 'metric': 'auc', 'force_row_wise': 'true', 'is_unbalance': True, 'verbose': -1, 'n_estimators': 116, 'num_leaves': 46}\n",
            "100%|██████████| 1/1 [01:05<00:00, 65.96s/trial, best loss: -0.7676323318778707]\n"
          ]
        }
      ],
      "source": [
        "search_space = {\n",
        "    'n_estimators': hp.quniform('n_estimators', 50, 150, 2),\n",
        "    'num_leaves': hp.quniform('num_leaves', 20, 50, 2),\n",
        "\n",
        "}\n",
        "clf401 = joblib.load('classifiers/selected401.pkl')\n",
        "fixed_params = clf.get_params()\n",
        "combined_params = ml.hyper_parameter_tuning(df,\n",
        "                                        fixed_params,\n",
        "                                        search_space,\n",
        "                                        target)"
      ]
    },
    {
      "cell_type": "code",
      "execution_count": null,
      "metadata": {
        "colab": {
          "base_uri": "https://localhost:8080/"
        },
        "id": "NIpH5zd36XOP",
        "outputId": "6cf7bdd3-7ee7-4d9e-baea-eb723fdc5073"
      },
      "outputs": [
        {
          "data": {
            "text/plain": [
              "0.7791853919241858"
            ]
          },
          "execution_count": 45,
          "metadata": {},
          "output_type": "execute_result"
        }
      ],
      "source": [
        "X_train, X_test, y_train, y_test = ml.create_splits(df,target)\n",
        "clf = ml.lgb.LGBMClassifier(**combined_params)\n",
        "clf401.fit(X_train, y_train)\n",
        "ml.roc_auc_score(y_test,clf.predict_proba(X_test)[:,1])"
      ]
    },
    {
      "cell_type": "code",
      "execution_count": null,
      "metadata": {
        "colab": {
          "base_uri": "https://localhost:8080/"
        },
        "id": "-T-R3WtxI8Qp",
        "outputId": "752925c8-ff57-441e-ce51-a25420e1b7b4"
      },
      "outputs": [
        {
          "data": {
            "text/plain": [
              "['classifiers/final_v01.pkl']"
            ]
          },
          "execution_count": 138,
          "metadata": {},
          "output_type": "execute_result"
        }
      ],
      "source": [
        "joblib.dump(clf, 'classifiers/final_v01.pkl')"
      ]
    },
    {
      "cell_type": "code",
      "execution_count": null,
      "metadata": {
        "colab": {
          "base_uri": "https://localhost:8080/"
        },
        "id": "4H66KMuB8x5V",
        "outputId": "d89be9db-a087-4751-d50e-77e62bed7484"
      },
      "outputs": [
        {
          "data": {
            "text/plain": [
              "0.7794654678026096"
            ]
          },
          "execution_count": 131,
          "metadata": {},
          "output_type": "execute_result"
        }
      ],
      "source": [
        "clf = ml.lgb.LGBMClassifier(**base_params)\n",
        "clf.fit(X_train, y_train)\n",
        "ml.roc_auc_score(y_test,clf.predict_proba(X_test)[:,1])"
      ]
    },
    {
      "cell_type": "code",
      "execution_count": null,
      "metadata": {
        "colab": {
          "base_uri": "https://localhost:8080/"
        },
        "id": "xCgvrs9a9Y9l",
        "outputId": "69fc4440-867e-419b-889e-3e06ecc1f334"
      },
      "outputs": [
        {
          "data": {
            "text/plain": [
              "0.780134732011726"
            ]
          },
          "execution_count": 133,
          "metadata": {},
          "output_type": "execute_result"
        }
      ],
      "source": [
        "clf = ml.lgb.LGBMClassifier(**combined_params)\n",
        "clf.fit(X_train, y_train)\n",
        "ml.roc_auc_score(y_test,clf.predict_proba(X_test)[:,1])"
      ]
    },
    {
      "cell_type": "markdown",
      "metadata": {
        "id": "7zdodbMpXO_8"
      },
      "source": [
        "# Advanced Hyper Parameter tuning"
      ]
    },
    {
      "cell_type": "code",
      "execution_count": null,
      "metadata": {
        "id": "CE42PNG1X7F9"
      },
      "outputs": [],
      "source": [
        "clf = joblib.load(root_dir+'classifiers/final_v01.pkl')"
      ]
    },
    {
      "cell_type": "code",
      "execution_count": null,
      "metadata": {
        "id": "H1EEoz3kYPtN"
      },
      "outputs": [],
      "source": [
        "df = pd.read_csv('csv/selected401')"
      ]
    },
    {
      "cell_type": "code",
      "execution_count": null,
      "metadata": {
        "colab": {
          "base_uri": "https://localhost:8080/"
        },
        "id": "S5oYxJSpXQ7V",
        "outputId": "7e504ac3-e222-4ade-8519-5e008425c119"
      },
      "outputs": [
        {
          "output_type": "stream",
          "name": "stdout",
          "text": [
            " 96%|█████████▌| 48/50 [41:57<01:51, 55.97s/trial, best loss: -0.7692205388284402]"
          ]
        }
      ],
      "source": [
        "search_space = {\n",
        "    'bagging_fraction': hp.uniform('bagging_fraction', low=0.5, high=1.0),\n",
        "    'bagging_freq': hp.quniform('bagging_freq', low=1, high=10, q=1),\n",
        "    'l1_reg': hp.uniform('l1_reg', low=0.001, high=0.1),\n",
        "    'l2_reg': hp.uniform('l2_reg', low=0.001, high=0.1),\n",
        "    'n_estimators': hp.quniform('n_estimators', 50, 250, 1),\n",
        "    'num_leaves': hp.quniform('num_leaves', 16, 256, 1),\n",
        "    'min_data_in_leaf': hp.quniform('min_data_in_leaf', low=5,\n",
        "                                    high=300, q=1),\n",
        "}\n",
        "name = '401BaseHP7'\n",
        "fixed_params = clf.get_params()\n",
        "combined_params = ml.hyper_parameter_tuning(df,\n",
        "                                        base_params,\n",
        "                                        search_space,\n",
        "                                        target,\n",
        "                                        name)"
      ]
    },
    {
      "cell_type": "code",
      "source": [
        "combined_params.pop('bagging_fraction')"
      ],
      "metadata": {
        "colab": {
          "base_uri": "https://localhost:8080/"
        },
        "id": "POwsn2WQknJk",
        "outputId": "8a19fc22-d1f4-4143-a748-1060bdd3dc35"
      },
      "execution_count": null,
      "outputs": [
        {
          "output_type": "execute_result",
          "data": {
            "text/plain": [
              "0"
            ]
          },
          "metadata": {},
          "execution_count": 18
        }
      ]
    },
    {
      "cell_type": "code",
      "source": [
        "ml.classifier(df,base_params,target,'401Base')"
      ],
      "metadata": {
        "id": "TWEChrmf4eEC"
      },
      "execution_count": null,
      "outputs": []
    },
    {
      "cell_type": "code",
      "source": [
        "ml.classifier(df,combined_params,target,'401BaseHP7')"
      ],
      "metadata": {
        "id": "bHqYM0cugWTf"
      },
      "execution_count": null,
      "outputs": []
    },
    {
      "cell_type": "markdown",
      "metadata": {
        "id": "7c0rHvlC4IEX"
      },
      "source": [
        "# Test script\n",
        "\n"
      ]
    },
    {
      "cell_type": "code",
      "source": [
        "ml.submission_classifier(df, clf401BaseHP7, target, '401BaseHP7v01Sub')"
      ],
      "metadata": {
        "id": "WeyJK57_0i9M"
      },
      "execution_count": null,
      "outputs": []
    },
    {
      "cell_type": "code",
      "execution_count": null,
      "metadata": {
        "id": "c2F313nAKY_m"
      },
      "outputs": [],
      "source": [
        "test_merged = aggs.merge_dfs(root_dir,agg_dir,\n",
        "                             'csv/distinct_application_test.csv',\n",
        "                             csv_files,pid)"
      ]
    },
    {
      "cell_type": "code",
      "execution_count": null,
      "metadata": {
        "id": "9FkWLBH_OH25"
      },
      "outputs": [],
      "source": [
        "test_merged = pd.read_csv('csv/merged.csv')\n",
        "test_merged = ml.sanitize(test_merged)\n",
        "clf = joblib.load('classifiers/final_v01.pkl')\n",
        "params = clf.get_params()\n",
        "df = pd.read_csv('merged.csv')\n",
        "test_merged = ml.create_categorical(test_merged)\n",
        "df = ml.sanitize(df)\n",
        "df = ml.create_categorical(df)\n",
        "\n",
        "test_clf = ml.lgb.LGBMClassifier(**params)\n",
        "test_clf.fit(df.drop(target, axis=1),df[target])\n",
        "\n",
        "predictions = test_clf.predict_proba(test_merged)\n",
        "\n",
        "results = pd.concat([test_merged[pid],\n",
        "                     pd.DataFrame(predictions[:, 1],\n",
        "                                  columns=[target])],axis=1)\n",
        "results.to_csv('predictions_v01.csv', index=False)"
      ]
    },
    {
      "cell_type": "markdown",
      "source": [
        "# Explore classifier predictions"
      ],
      "metadata": {
        "id": "w0oSbSII6qVl"
      }
    },
    {
      "cell_type": "markdown",
      "source": [
        "    Precision proportion of positive predictions that were actually correct.\n",
        "    Recall proportion of actual positive cases that were correctly identified.\n",
        "    F1-score is the harmonic mean between precision & recall.\n",
        "    Support is the total number of true instances for a particular class.\n",
        "\n",
        "    "
      ],
      "metadata": {
        "id": "_2Ln69Vl5Sku"
      }
    },
    {
      "cell_type": "code",
      "source": [
        "clf = joblib.load('classifiers/final_v01.pkl')\n",
        "df=ml.create_categorical(df)\n",
        "X, y, X_test, y_test = ml.train_val_split(df, target)\n"
      ],
      "metadata": {
        "id": "DffL9cGlPB2O"
      },
      "execution_count": null,
      "outputs": []
    },
    {
      "cell_type": "code",
      "source": [
        "ml.get_results('classifiers/lgbApp.json')"
      ],
      "metadata": {
        "colab": {
          "base_uri": "https://localhost:8080/"
        },
        "id": "XJSVb5gN83KG",
        "outputId": "4b8a3696-620a-46ef-a07d-02675e6c02e3"
      },
      "execution_count": null,
      "outputs": [
        {
          "output_type": "stream",
          "name": "stdout",
          "text": [
            "classification_report\n",
            "              precision    recall  f1-score   support\n",
            "\n",
            "           0       0.96      0.75      0.84     56440\n",
            "           1       0.18      0.62      0.28      5063\n",
            "\n",
            "    accuracy                           0.74     61503\n",
            "   macro avg       0.57      0.69      0.56     61503\n",
            "weighted avg       0.89      0.74      0.79     61503\n",
            "\n",
            "confusion_matrix\n",
            "[[42096, 14344], [1899, 3164]]\n",
            "roc_auc_score\n",
            "0.6853899687467324\n"
          ]
        }
      ]
    },
    {
      "cell_type": "code",
      "source": [
        "ml.get_results('classifiers/lgbMerged.json')"
      ],
      "metadata": {
        "colab": {
          "base_uri": "https://localhost:8080/"
        },
        "id": "SZVz031P-L06",
        "outputId": "3065693f-9331-4176-abae-f3d771262ae2"
      },
      "execution_count": null,
      "outputs": [
        {
          "output_type": "stream",
          "name": "stdout",
          "text": [
            "classification_report\n",
            "              precision    recall  f1-score   support\n",
            "\n",
            "       False       0.96      0.77      0.85     56537\n",
            "        True       0.20      0.65      0.30      4965\n",
            "\n",
            "    accuracy                           0.76     61502\n",
            "   macro avg       0.58      0.71      0.58     61502\n",
            "weighted avg       0.90      0.76      0.81     61502\n",
            "\n",
            "confusion_matrix\n",
            "[[43314, 13223], [1733, 3232]]\n",
            "roc_auc_score\n",
            "0.7085372302332967\n"
          ]
        }
      ]
    },
    {
      "cell_type": "code",
      "source": [
        "ml.get_results('classifiers/401BaseHP7v01_eval.json')"
      ],
      "metadata": {
        "colab": {
          "base_uri": "https://localhost:8080/"
        },
        "id": "ppsjzxfZ-IUa",
        "outputId": "4114e548-4a07-43d5-fc26-30da5b1548ff"
      },
      "execution_count": null,
      "outputs": [
        {
          "output_type": "stream",
          "name": "stdout",
          "text": [
            "classification_report\n",
            "              precision    recall  f1-score   support\n",
            "\n",
            "           0       0.96      0.74      0.84     59365\n",
            "           1       0.18      0.66      0.29      5213\n",
            "\n",
            "    accuracy                           0.73     64578\n",
            "   macro avg       0.57      0.70      0.56     64578\n",
            "weighted avg       0.90      0.73      0.79     64578\n",
            "\n",
            "confusion_matrix\n",
            "[[43905, 15460], [1749, 3464]]\n",
            "roc_auc_score\n",
            "0.7020349032827102\n"
          ]
        }
      ]
    },
    {
      "cell_type": "markdown",
      "source": [
        "Future tasks:\n",
        "\n",
        "hyperparameter tuning with bigger number of rounds to explore classifier to its limits."
      ],
      "metadata": {
        "id": "bOJAA_qTfD2u"
      }
    },
    {
      "cell_type": "code",
      "source": [
        "clf = joblib.load('classifiers/final_v01.pkl')"
      ],
      "metadata": {
        "id": "cx2UQXgqYlp3"
      },
      "execution_count": null,
      "outputs": []
    },
    {
      "cell_type": "code",
      "source": [
        "ml.feature_importance(clf)"
      ],
      "metadata": {
        "colab": {
          "base_uri": "https://localhost:8080/",
          "height": 424
        },
        "id": "ZtyEHs4VcG-1",
        "outputId": "515a651d-4757-4c96-8f2f-ebec5149466f"
      },
      "execution_count": null,
      "outputs": [
        {
          "output_type": "execute_result",
          "data": {
            "text/plain": [
              "                                       Feature  Importance\n",
              "0                            ORGANIZATION_TYPE         433\n",
              "1                                 EXT_SOURCE_1          83\n",
              "2                                 EXT_SOURCE_2          77\n",
              "3                                 EXT_SOURCE_3          68\n",
              "4                                   AMT_CREDIT          60\n",
              "..                                         ...         ...\n",
              "257  NAME_GOODS_CATEGORY_ConstructionMaterials           0\n",
              "328                       NAME_CLIENT_TYPE_New           0\n",
              "327                            AMT_BALANCE_sum           0\n",
              "325                        AMT_APPLICATION_sum           0\n",
              "394                   PRODUCT_COMBINATION_Cash           0\n",
              "\n",
              "[395 rows x 2 columns]"
            ],
            "text/html": [
              "\n",
              "  <div id=\"df-b86ba305-e91d-45c2-a0e4-4210340042d8\" class=\"colab-df-container\">\n",
              "    <div>\n",
              "<style scoped>\n",
              "    .dataframe tbody tr th:only-of-type {\n",
              "        vertical-align: middle;\n",
              "    }\n",
              "\n",
              "    .dataframe tbody tr th {\n",
              "        vertical-align: top;\n",
              "    }\n",
              "\n",
              "    .dataframe thead th {\n",
              "        text-align: right;\n",
              "    }\n",
              "</style>\n",
              "<table border=\"1\" class=\"dataframe\">\n",
              "  <thead>\n",
              "    <tr style=\"text-align: right;\">\n",
              "      <th></th>\n",
              "      <th>Feature</th>\n",
              "      <th>Importance</th>\n",
              "    </tr>\n",
              "  </thead>\n",
              "  <tbody>\n",
              "    <tr>\n",
              "      <th>0</th>\n",
              "      <td>ORGANIZATION_TYPE</td>\n",
              "      <td>433</td>\n",
              "    </tr>\n",
              "    <tr>\n",
              "      <th>1</th>\n",
              "      <td>EXT_SOURCE_1</td>\n",
              "      <td>83</td>\n",
              "    </tr>\n",
              "    <tr>\n",
              "      <th>2</th>\n",
              "      <td>EXT_SOURCE_2</td>\n",
              "      <td>77</td>\n",
              "    </tr>\n",
              "    <tr>\n",
              "      <th>3</th>\n",
              "      <td>EXT_SOURCE_3</td>\n",
              "      <td>68</td>\n",
              "    </tr>\n",
              "    <tr>\n",
              "      <th>4</th>\n",
              "      <td>AMT_CREDIT</td>\n",
              "      <td>60</td>\n",
              "    </tr>\n",
              "    <tr>\n",
              "      <th>...</th>\n",
              "      <td>...</td>\n",
              "      <td>...</td>\n",
              "    </tr>\n",
              "    <tr>\n",
              "      <th>257</th>\n",
              "      <td>NAME_GOODS_CATEGORY_ConstructionMaterials</td>\n",
              "      <td>0</td>\n",
              "    </tr>\n",
              "    <tr>\n",
              "      <th>328</th>\n",
              "      <td>NAME_CLIENT_TYPE_New</td>\n",
              "      <td>0</td>\n",
              "    </tr>\n",
              "    <tr>\n",
              "      <th>327</th>\n",
              "      <td>AMT_BALANCE_sum</td>\n",
              "      <td>0</td>\n",
              "    </tr>\n",
              "    <tr>\n",
              "      <th>325</th>\n",
              "      <td>AMT_APPLICATION_sum</td>\n",
              "      <td>0</td>\n",
              "    </tr>\n",
              "    <tr>\n",
              "      <th>394</th>\n",
              "      <td>PRODUCT_COMBINATION_Cash</td>\n",
              "      <td>0</td>\n",
              "    </tr>\n",
              "  </tbody>\n",
              "</table>\n",
              "<p>395 rows × 2 columns</p>\n",
              "</div>\n",
              "    <div class=\"colab-df-buttons\">\n",
              "\n",
              "  <div class=\"colab-df-container\">\n",
              "    <button class=\"colab-df-convert\" onclick=\"convertToInteractive('df-b86ba305-e91d-45c2-a0e4-4210340042d8')\"\n",
              "            title=\"Convert this dataframe to an interactive table.\"\n",
              "            style=\"display:none;\">\n",
              "\n",
              "  <svg xmlns=\"http://www.w3.org/2000/svg\" height=\"24px\" viewBox=\"0 -960 960 960\">\n",
              "    <path d=\"M120-120v-720h720v720H120Zm60-500h600v-160H180v160Zm220 220h160v-160H400v160Zm0 220h160v-160H400v160ZM180-400h160v-160H180v160Zm440 0h160v-160H620v160ZM180-180h160v-160H180v160Zm440 0h160v-160H620v160Z\"/>\n",
              "  </svg>\n",
              "    </button>\n",
              "\n",
              "  <style>\n",
              "    .colab-df-container {\n",
              "      display:flex;\n",
              "      gap: 12px;\n",
              "    }\n",
              "\n",
              "    .colab-df-convert {\n",
              "      background-color: #E8F0FE;\n",
              "      border: none;\n",
              "      border-radius: 50%;\n",
              "      cursor: pointer;\n",
              "      display: none;\n",
              "      fill: #1967D2;\n",
              "      height: 32px;\n",
              "      padding: 0 0 0 0;\n",
              "      width: 32px;\n",
              "    }\n",
              "\n",
              "    .colab-df-convert:hover {\n",
              "      background-color: #E2EBFA;\n",
              "      box-shadow: 0px 1px 2px rgba(60, 64, 67, 0.3), 0px 1px 3px 1px rgba(60, 64, 67, 0.15);\n",
              "      fill: #174EA6;\n",
              "    }\n",
              "\n",
              "    .colab-df-buttons div {\n",
              "      margin-bottom: 4px;\n",
              "    }\n",
              "\n",
              "    [theme=dark] .colab-df-convert {\n",
              "      background-color: #3B4455;\n",
              "      fill: #D2E3FC;\n",
              "    }\n",
              "\n",
              "    [theme=dark] .colab-df-convert:hover {\n",
              "      background-color: #434B5C;\n",
              "      box-shadow: 0px 1px 3px 1px rgba(0, 0, 0, 0.15);\n",
              "      filter: drop-shadow(0px 1px 2px rgba(0, 0, 0, 0.3));\n",
              "      fill: #FFFFFF;\n",
              "    }\n",
              "  </style>\n",
              "\n",
              "    <script>\n",
              "      const buttonEl =\n",
              "        document.querySelector('#df-b86ba305-e91d-45c2-a0e4-4210340042d8 button.colab-df-convert');\n",
              "      buttonEl.style.display =\n",
              "        google.colab.kernel.accessAllowed ? 'block' : 'none';\n",
              "\n",
              "      async function convertToInteractive(key) {\n",
              "        const element = document.querySelector('#df-b86ba305-e91d-45c2-a0e4-4210340042d8');\n",
              "        const dataTable =\n",
              "          await google.colab.kernel.invokeFunction('convertToInteractive',\n",
              "                                                    [key], {});\n",
              "        if (!dataTable) return;\n",
              "\n",
              "        const docLinkHtml = 'Like what you see? Visit the ' +\n",
              "          '<a target=\"_blank\" href=https://colab.research.google.com/notebooks/data_table.ipynb>data table notebook</a>'\n",
              "          + ' to learn more about interactive tables.';\n",
              "        element.innerHTML = '';\n",
              "        dataTable['output_type'] = 'display_data';\n",
              "        await google.colab.output.renderOutput(dataTable, element);\n",
              "        const docLink = document.createElement('div');\n",
              "        docLink.innerHTML = docLinkHtml;\n",
              "        element.appendChild(docLink);\n",
              "      }\n",
              "    </script>\n",
              "  </div>\n",
              "\n",
              "\n",
              "<div id=\"df-98cb0d10-2c2a-48c6-b76e-006a4f65aac2\">\n",
              "  <button class=\"colab-df-quickchart\" onclick=\"quickchart('df-98cb0d10-2c2a-48c6-b76e-006a4f65aac2')\"\n",
              "            title=\"Suggest charts\"\n",
              "            style=\"display:none;\">\n",
              "\n",
              "<svg xmlns=\"http://www.w3.org/2000/svg\" height=\"24px\"viewBox=\"0 0 24 24\"\n",
              "     width=\"24px\">\n",
              "    <g>\n",
              "        <path d=\"M19 3H5c-1.1 0-2 .9-2 2v14c0 1.1.9 2 2 2h14c1.1 0 2-.9 2-2V5c0-1.1-.9-2-2-2zM9 17H7v-7h2v7zm4 0h-2V7h2v10zm4 0h-2v-4h2v4z\"/>\n",
              "    </g>\n",
              "</svg>\n",
              "  </button>\n",
              "\n",
              "<style>\n",
              "  .colab-df-quickchart {\n",
              "      --bg-color: #E8F0FE;\n",
              "      --fill-color: #1967D2;\n",
              "      --hover-bg-color: #E2EBFA;\n",
              "      --hover-fill-color: #174EA6;\n",
              "      --disabled-fill-color: #AAA;\n",
              "      --disabled-bg-color: #DDD;\n",
              "  }\n",
              "\n",
              "  [theme=dark] .colab-df-quickchart {\n",
              "      --bg-color: #3B4455;\n",
              "      --fill-color: #D2E3FC;\n",
              "      --hover-bg-color: #434B5C;\n",
              "      --hover-fill-color: #FFFFFF;\n",
              "      --disabled-bg-color: #3B4455;\n",
              "      --disabled-fill-color: #666;\n",
              "  }\n",
              "\n",
              "  .colab-df-quickchart {\n",
              "    background-color: var(--bg-color);\n",
              "    border: none;\n",
              "    border-radius: 50%;\n",
              "    cursor: pointer;\n",
              "    display: none;\n",
              "    fill: var(--fill-color);\n",
              "    height: 32px;\n",
              "    padding: 0;\n",
              "    width: 32px;\n",
              "  }\n",
              "\n",
              "  .colab-df-quickchart:hover {\n",
              "    background-color: var(--hover-bg-color);\n",
              "    box-shadow: 0 1px 2px rgba(60, 64, 67, 0.3), 0 1px 3px 1px rgba(60, 64, 67, 0.15);\n",
              "    fill: var(--button-hover-fill-color);\n",
              "  }\n",
              "\n",
              "  .colab-df-quickchart-complete:disabled,\n",
              "  .colab-df-quickchart-complete:disabled:hover {\n",
              "    background-color: var(--disabled-bg-color);\n",
              "    fill: var(--disabled-fill-color);\n",
              "    box-shadow: none;\n",
              "  }\n",
              "\n",
              "  .colab-df-spinner {\n",
              "    border: 2px solid var(--fill-color);\n",
              "    border-color: transparent;\n",
              "    border-bottom-color: var(--fill-color);\n",
              "    animation:\n",
              "      spin 1s steps(1) infinite;\n",
              "  }\n",
              "\n",
              "  @keyframes spin {\n",
              "    0% {\n",
              "      border-color: transparent;\n",
              "      border-bottom-color: var(--fill-color);\n",
              "      border-left-color: var(--fill-color);\n",
              "    }\n",
              "    20% {\n",
              "      border-color: transparent;\n",
              "      border-left-color: var(--fill-color);\n",
              "      border-top-color: var(--fill-color);\n",
              "    }\n",
              "    30% {\n",
              "      border-color: transparent;\n",
              "      border-left-color: var(--fill-color);\n",
              "      border-top-color: var(--fill-color);\n",
              "      border-right-color: var(--fill-color);\n",
              "    }\n",
              "    40% {\n",
              "      border-color: transparent;\n",
              "      border-right-color: var(--fill-color);\n",
              "      border-top-color: var(--fill-color);\n",
              "    }\n",
              "    60% {\n",
              "      border-color: transparent;\n",
              "      border-right-color: var(--fill-color);\n",
              "    }\n",
              "    80% {\n",
              "      border-color: transparent;\n",
              "      border-right-color: var(--fill-color);\n",
              "      border-bottom-color: var(--fill-color);\n",
              "    }\n",
              "    90% {\n",
              "      border-color: transparent;\n",
              "      border-bottom-color: var(--fill-color);\n",
              "    }\n",
              "  }\n",
              "</style>\n",
              "\n",
              "  <script>\n",
              "    async function quickchart(key) {\n",
              "      const quickchartButtonEl =\n",
              "        document.querySelector('#' + key + ' button');\n",
              "      quickchartButtonEl.disabled = true;  // To prevent multiple clicks.\n",
              "      quickchartButtonEl.classList.add('colab-df-spinner');\n",
              "      try {\n",
              "        const charts = await google.colab.kernel.invokeFunction(\n",
              "            'suggestCharts', [key], {});\n",
              "      } catch (error) {\n",
              "        console.error('Error during call to suggestCharts:', error);\n",
              "      }\n",
              "      quickchartButtonEl.classList.remove('colab-df-spinner');\n",
              "      quickchartButtonEl.classList.add('colab-df-quickchart-complete');\n",
              "    }\n",
              "    (() => {\n",
              "      let quickchartButtonEl =\n",
              "        document.querySelector('#df-98cb0d10-2c2a-48c6-b76e-006a4f65aac2 button');\n",
              "      quickchartButtonEl.style.display =\n",
              "        google.colab.kernel.accessAllowed ? 'block' : 'none';\n",
              "    })();\n",
              "  </script>\n",
              "</div>\n",
              "    </div>\n",
              "  </div>\n"
            ],
            "application/vnd.google.colaboratory.intrinsic+json": {
              "type": "dataframe",
              "summary": "{\n  \"name\": \"ml\",\n  \"rows\": 395,\n  \"fields\": [\n    {\n      \"column\": \"Feature\",\n      \"properties\": {\n        \"dtype\": \"string\",\n        \"num_unique_values\": 395,\n        \"samples\": [\n          \"NUM_INSTALMENT_NUMBER_std\",\n          \"NFLAG_LAST_APPL_IN_DAY_mean\",\n          \"DAYS_TERMINATION_min\"\n        ],\n        \"semantic_type\": \"\",\n        \"description\": \"\"\n      }\n    },\n    {\n      \"column\": \"Importance\",\n      \"properties\": {\n        \"dtype\": \"int32\",\n        \"num_unique_values\": 39,\n        \"samples\": [\n          5,\n          2,\n          60\n        ],\n        \"semantic_type\": \"\",\n        \"description\": \"\"\n      }\n    }\n  ]\n}"
            }
          },
          "metadata": {},
          "execution_count": 15
        }
      ]
    },
    {
      "cell_type": "code",
      "source": [
        "import lightgbm as lgb\n",
        "import matplotlib.pyplot as plt\n",
        "feature_index = 4\n",
        "lgb.plot_split_value_histogram(clf, feature=feature_index)\n",
        "plt.show()"
      ],
      "metadata": {
        "colab": {
          "base_uri": "https://localhost:8080/",
          "height": 472
        },
        "id": "kT2licOpYnSv",
        "outputId": "79eb5d29-ff47-4e45-dcce-c838a549cdba"
      },
      "execution_count": null,
      "outputs": [
        {
          "output_type": "display_data",
          "data": {
            "text/plain": [
              "<Figure size 640x480 with 1 Axes>"
            ],
            "image/png": "[encoded data removed]"
          },
          "metadata": {}
        }
      ]
    },
    {
      "cell_type": "code",
      "source": [],
      "metadata": {
        "id": "5Z4nL-4UchqV"
      },
      "execution_count": null,
      "outputs": []
    }
  ],
  "metadata": {
    "colab": {
      "collapsed_sections": [
        "fMUQ1isoTBYv",
        "YzKnLlVeBMU7",
        "rI-NIqDT-916",
        "yFqd_R88df-L",
        "lGBBFwoWmhtN",
        "AjzbDqCmmkZ7"
      ],
      "provenance": [],
      "authorship_tag": "ABX9TyMajY79YISfCNDJQhBkhxXY",
      "include_colab_link": true
    },
    "kernelspec": {
      "display_name": "Python 3",
      "name": "python3"
    },
    "language_info": {
      "name": "python"
    }
  },
  "nbformat": 4,
  "nbformat_minor": 0
}